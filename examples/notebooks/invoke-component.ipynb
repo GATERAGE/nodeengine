{
 "cells": [
  {
   "cell_type": "markdown",
   "metadata": {},
   "source": [
    "# Invoke Component\n",
    "This notebook provides a sample for how to invoke a component in a flow and can be used for testing purposes."
   ]
  },
  {
   "cell_type": "code",
   "execution_count": null,
   "metadata": {},
   "outputs": [],
   "source": [
    "import json\n",
    "import httpx\n",
    "\n",
    "from node_engine.models.flow_definition import FlowDefinition"
   ]
  },
  {
   "cell_type": "code",
   "execution_count": null,
   "metadata": {},
   "outputs": [],
   "source": [
    "component_name = \"intent_extraction\"\n",
    "class_name = \"IntentExtraction\"\n",
    "component_key = \"start\"\n",
    "\n",
    "flow_definition = FlowDefinition(**{\n",
    "    \"key\": \"sample\",\n",
    "    \"session_id\": \"123456\",\n",
    "    \"context\": {\n",
    "        \"messages\": [\n",
    "            {\n",
    "                \"sender\": \"user\",\n",
    "                \"content\": \"Hello\",\n",
    "            }\n",
    "        ],\n",
    "        \"intent\": \"greeting\",\n",
    "    },\n",
    "    \"flow\": [\n",
    "        {\n",
    "            \"key\": \"start\",\n",
    "            \"name\": \"IntentExtraction\",\n",
    "        },\n",
    "    ],\n",
    "})"
   ]
  },
  {
   "cell_type": "code",
   "execution_count": null,
   "metadata": {},
   "outputs": [],
   "source": [
    "url = \"http://127.0.0.1:8000/invoke_component?component_name={}&class_name={}&component_key={}\".format(\n",
    "    component_name,\n",
    "    class_name,\n",
    "    component_key\n",
    ")\n",
    "\n",
    "async with httpx.AsyncClient() as client:\n",
    "    response = await client.post(\n",
    "        url,\n",
    "        json=flow_definition.model_dump(),\n",
    "        timeout=None\n",
    "    )\n",
    "\n",
    "print(response.json())"
   ]
  }
 ],
 "metadata": {
  "kernelspec": {
   "display_name": "venv",
   "language": "python",
   "name": "python3"
  },
  "language_info": {
   "codemirror_mode": {
    "name": "ipython",
    "version": 3
   },
   "file_extension": ".py",
   "mimetype": "text/x-python",
   "name": "python",
   "nbconvert_exporter": "python",
   "pygments_lexer": "ipython3",
   "version": "3.11.0"
  },
  "orig_nbformat": 4
 },
 "nbformat": 4,
 "nbformat_minor": 2
}
